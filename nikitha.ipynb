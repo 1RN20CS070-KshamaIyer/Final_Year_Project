{
 "cells": [
  {
   "cell_type": "code",
   "execution_count": 1,
   "metadata": {},
   "outputs": [],
   "source": [
    "VARK=[[\"I want to save more money and to decide between a range of options. I would:\",\"use graphs showing different options for different time periods.\",\"talk with an expert about the options.\",\"read a print brochure that describes the options in detail.\",\"consider examples of each option using my financial information.\"] ,[\"I want to learn about a new project. I would ask for:\",\"diagrams to show the project stages with charts of benefits and costs.\",\"an opportunity to discuss the project.\",\"a written report describing the main features of the project.\",\"examples where the project has been used successfully.\"] ,[\"I want to learn how to play a new board game or card game. I would:\",\"use the diagrams that explain the various stages, moves and strategies in the game.\",\"listen to somebody explaining it and ask questions.\",\"read the instructions.\",\"watch others play the game before joining in.\"] ,[\"I am having trouble assembling a wooden table that came in parts (kitset). I would:\",\"study diagrams showing each stage of the assembly.\",\"ask for advice from someone who assembles furniture.\",\"read the instructions that came with the table.\",\"watch a video of a person assembling a similar table.\"] ,[\"When I am learning I:\",\"see patterns in things.\",\"like to talk things through.\",\"read books, articles and handouts.\",\"use examples and applications.\"] ,[\"I prefer a presenter or a teacher who uses:\",\"diagrams, charts, maps or graphs.\",\"question and answer, talk, group discussion, or guest speakers.\",\"handouts, books, or readings.\",\"demonstrations, models or practical sessions.\"] ,[\"I want to find out more about a tour that I am going on. I would:\",\"use a map and see where the places are.\",\"talk with the person who planned the tour or others who are going on the tour.\",\"read about the tour on the itinerary.\",\"look at details about the highlights and activities on the tour.\"] ,[\"When finding my way, I:\",\"rely on paper maps or GPS maps.\",\"rely on verbal instructions from GPS or from someone traveling with me.\",\"like to read instructions from GPS or instructions that have been written.\",\"head in the general direction to see if I can find my destination without instructions.\"] ,[\"I want to learn to do something new on a computer. I would:\",\"follow the diagrams in a book.\",\"talk with people who know about the program.\",\"read the written instructions that came with the program.\",\"start using it and learn by trial and error.\"] ,[\"I want to learn how to take better photos. I would:\",\"use diagrams showing the camera and what each part does.\",\"ask questions and talk about the camera and its features.\",\"use the written instructions about what to do.\",\"use examples of good and poor photos showing how to improve them.\"] ,[\"A website has a video showing how to make a special graph or chart. There is a person speaking, some lists and words describing what to do and some diagrams. I would learn most from:\",\"reading the words.\",\"listening.\",\"seeing the diagrams.\",\"watching the actions.\"] ,[\"When choosing a career or area of study, these are important for me:\",\"Working with designs, maps or charts.\",\"Communicating with others through discussion.\",\"Using words well in written communications.\",\"Applying my knowledge in real situations.\"] ,[\"When learning from the Internet I like:\",\"interesting design and visual features.\",\"podcasts and videos where I can listen to experts.\",\"detailed articles.\",\"videos showing how to do things.\"] ,[\"I want to find out about a house or an apartment. Before visiting it I would want:\",\"a plan showing the rooms and a map of the area.\",\"a discussion with the owner.\",\"a printed description of the rooms and features.\",\"to view a video of the property.\"] ,[\"I have finished a competition or test and I would like some feedback:\",\"from somebody who talks it through with me.\",\"using graphs showing how my performance has improved.\",\"using a written description of my results.\",\"using examples from what I have done.\"] ,[\"I have been advised by the doctor that I have a medical problem and I have some questions about it. I would:\",\"look at a diagram showing what was wrong.\",\"have a detailed discussion with my doctor.\",\"read an article that explains the problem.\",\"use a 3D model to see what is wrong.\"]]"
   ]
  },
  {
   "cell_type": "code",
   "execution_count": 2,
   "metadata": {},
   "outputs": [
    {
     "name": "stdout",
     "output_type": "stream",
     "text": [
      "[[1, 'I want to save more money and to decide between a range of options. I would:', 'use graphs showing different options for different time periods.', 'talk with an expert about the options.', 'read a print brochure that describes the options in detail.', 'consider examples of each option using my financial information.'], [2, 'I want to learn about a new project. I would ask for:', 'diagrams to show the project stages with charts of benefits and costs.', 'an opportunity to discuss the project.', 'a written report describing the main features of the project.', 'examples where the project has been used successfully.'], [3, 'I want to learn how to play a new board game or card game. I would:', 'use the diagrams that explain the various stages, moves and strategies in the game.', 'listen to somebody explaining it and ask questions.', 'read the instructions.', 'watch others play the game before joining in.'], [4, 'I am having trouble assembling a wooden table that came in parts (kitset). I would:', 'study diagrams showing each stage of the assembly.', 'ask for advice from someone who assembles furniture.', 'read the instructions that came with the table.', 'watch a video of a person assembling a similar table.'], [5, 'When I am learning I:', 'see patterns in things.', 'like to talk things through.', 'read books, articles and handouts.', 'use examples and applications.'], [6, 'I prefer a presenter or a teacher who uses:', 'diagrams, charts, maps or graphs.', 'question and answer, talk, group discussion, or guest speakers.', 'handouts, books, or readings.', 'demonstrations, models or practical sessions.'], [7, 'I want to find out more about a tour that I am going on. I would:', 'use a map and see where the places are.', 'talk with the person who planned the tour or others who are going on the tour.', 'read about the tour on the itinerary.', 'look at details about the highlights and activities on the tour.'], [8, 'When finding my way, I:', 'rely on paper maps or GPS maps.', 'rely on verbal instructions from GPS or from someone traveling with me.', 'like to read instructions from GPS or instructions that have been written.', 'head in the general direction to see if I can find my destination without instructions.'], [9, 'I want to learn to do something new on a computer. I would:', 'follow the diagrams in a book.', 'talk with people who know about the program.', 'read the written instructions that came with the program.', 'start using it and learn by trial and error.'], [10, 'I want to learn how to take better photos. I would:', 'use diagrams showing the camera and what each part does.', 'ask questions and talk about the camera and its features.', 'use the written instructions about what to do.', 'use examples of good and poor photos showing how to improve them.'], [11, 'A website has a video showing how to make a special graph or chart. There is a person speaking, some lists and words describing what to do and some diagrams. I would learn most from:', 'reading the words.', 'listening.', 'seeing the diagrams.', 'watching the actions.'], [12, 'When choosing a career or area of study, these are important for me:', 'Working with designs, maps or charts.', 'Communicating with others through discussion.', 'Using words well in written communications.', 'Applying my knowledge in real situations.'], [13, 'When learning from the Internet I like:', 'interesting design and visual features.', 'podcasts and videos where I can listen to experts.', 'detailed articles.', 'videos showing how to do things.'], [14, 'I want to find out about a house or an apartment. Before visiting it I would want:', 'a plan showing the rooms and a map of the area.', 'a discussion with the owner.', 'a printed description of the rooms and features.', 'to view a video of the property.'], [15, 'I have finished a competition or test and I would like some feedback:', 'from somebody who talks it through with me.', 'using graphs showing how my performance has improved.', 'using a written description of my results.', 'using examples from what I have done.'], [16, 'I have been advised by the doctor that I have a medical problem and I have some questions about it. I would:', 'look at a diagram showing what was wrong.', 'have a detailed discussion with my doctor.', 'read an article that explains the problem.', 'use a 3D model to see what is wrong.']]\n"
     ]
    }
   ],
   "source": [
    "VARK1 = [[i+1, *qa] for i, qa in enumerate(VARK)]\n",
    "print(VARK1)"
   ]
  },
  {
   "cell_type": "code",
   "execution_count": 17,
   "metadata": {},
   "outputs": [],
   "source": [
    "import psycopg2"
   ]
  },
  {
   "cell_type": "code",
   "execution_count": 22,
   "metadata": {},
   "outputs": [],
   "source": [
    "conn = psycopg2.connect(\n",
    "    host = \"localhost\",\n",
    "    database = \"learningPlatform\",\n",
    "    user=\"batch9\",\n",
    "    password = \"mypassword\"\n",
    ")"
   ]
  },
  {
   "cell_type": "code",
   "execution_count": 7,
   "metadata": {},
   "outputs": [
    {
     "name": "stdout",
     "output_type": "stream",
     "text": [
      "INSERT INTO user_firstquiz(question,choice1,choice2,choice3,choice4) VALUES ('I want to save more money and to decide between a range of options. I would:','use graphs showing different options for different time periods.','talk with an expert about the options.','read a print brochure that describes the options in detail.','consider examples of each option using my financial information.');\n",
      "INSERT INTO user_firstquiz(question,choice1,choice2,choice3,choice4) VALUES ('I want to learn about a new project. I would ask for:','diagrams to show the project stages with charts of benefits and costs.','an opportunity to discuss the project.','a written report describing the main features of the project.','examples where the project has been used successfully.');\n",
      "INSERT INTO user_firstquiz(question,choice1,choice2,choice3,choice4) VALUES ('I want to learn how to play a new board game or card game. I would:','use the diagrams that explain the various stages, moves and strategies in the game.','listen to somebody explaining it and ask questions.','read the instructions.','watch others play the game before joining in.');\n",
      "INSERT INTO user_firstquiz(question,choice1,choice2,choice3,choice4) VALUES ('I am having trouble assembling a wooden table that came in parts (kitset). I would:','study diagrams showing each stage of the assembly.','ask for advice from someone who assembles furniture.','read the instructions that came with the table.','watch a video of a person assembling a similar table.');\n",
      "INSERT INTO user_firstquiz(question,choice1,choice2,choice3,choice4) VALUES ('When I am learning I:','see patterns in things.','like to talk things through.','read books, articles and handouts.','use examples and applications.');\n",
      "INSERT INTO user_firstquiz(question,choice1,choice2,choice3,choice4) VALUES ('I prefer a presenter or a teacher who uses:','diagrams, charts, maps or graphs.','question and answer, talk, group discussion, or guest speakers.','handouts, books, or readings.','demonstrations, models or practical sessions.');\n",
      "INSERT INTO user_firstquiz(question,choice1,choice2,choice3,choice4) VALUES ('I want to find out more about a tour that I am going on. I would:','use a map and see where the places are.','talk with the person who planned the tour or others who are going on the tour.','read about the tour on the itinerary.','look at details about the highlights and activities on the tour.');\n",
      "INSERT INTO user_firstquiz(question,choice1,choice2,choice3,choice4) VALUES ('When finding my way, I:','rely on paper maps or GPS maps.','rely on verbal instructions from GPS or from someone traveling with me.','like to read instructions from GPS or instructions that have been written.','head in the general direction to see if I can find my destination without instructions.');\n",
      "INSERT INTO user_firstquiz(question,choice1,choice2,choice3,choice4) VALUES ('I want to learn to do something new on a computer. I would:','follow the diagrams in a book.','talk with people who know about the program.','read the written instructions that came with the program.','start using it and learn by trial and error.');\n",
      "INSERT INTO user_firstquiz(question,choice1,choice2,choice3,choice4) VALUES ('I want to learn how to take better photos. I would:','use diagrams showing the camera and what each part does.','ask questions and talk about the camera and its features.','use the written instructions about what to do.','use examples of good and poor photos showing how to improve them.');\n",
      "INSERT INTO user_firstquiz(question,choice1,choice2,choice3,choice4) VALUES ('A website has a video showing how to make a special graph or chart. There is a person speaking, some lists and words describing what to do and some diagrams. I would learn most from:','reading the words.','listening.','seeing the diagrams.','watching the actions.');\n",
      "INSERT INTO user_firstquiz(question,choice1,choice2,choice3,choice4) VALUES ('When choosing a career or area of study, these are important for me:','Working with designs, maps or charts.','Communicating with others through discussion.','Using words well in written communications.','Applying my knowledge in real situations.');\n",
      "INSERT INTO user_firstquiz(question,choice1,choice2,choice3,choice4) VALUES ('When learning from the Internet I like:','interesting design and visual features.','podcasts and videos where I can listen to experts.','detailed articles.','videos showing how to do things.');\n",
      "INSERT INTO user_firstquiz(question,choice1,choice2,choice3,choice4) VALUES ('I want to find out about a house or an apartment. Before visiting it I would want:','a plan showing the rooms and a map of the area.','a discussion with the owner.','a printed description of the rooms and features.','to view a video of the property.');\n",
      "INSERT INTO user_firstquiz(question,choice1,choice2,choice3,choice4) VALUES ('I have finished a competition or test and I would like some feedback:','from somebody who talks it through with me.','using graphs showing how my performance has improved.','using a written description of my results.','using examples from what I have done.');\n",
      "INSERT INTO user_firstquiz(question,choice1,choice2,choice3,choice4) VALUES ('I have been advised by the doctor that I have a medical problem and I have some questions about it. I would:','look at a diagram showing what was wrong.','have a detailed discussion with my doctor.','read an article that explains the problem.','use a 3D model to see what is wrong.');\n"
     ]
    }
   ],
   "source": [
    "cursor = conn.cursor()\n",
    "\n",
    "# Iterate through the VARK data and execute the statement with each row's values\n",
    "for qa in VARK:\n",
    "    statement = f\"\"\"INSERT INTO user_firstquiz(question,choice1,choice2,choice3,choice4) VALUES ('{qa[0]}','{qa[1]}','{qa[2]}','{qa[3]}','{qa[4]}');\"\"\"\n",
    "    print(statement)\n",
    "    cursor.execute(statement)\n",
    "\n",
    "# Commit the changes\n",
    "conn.commit()\n",
    "\n",
    "# Close the connection\n",
    "conn.close()"
   ]
  },
  {
   "cell_type": "code",
   "execution_count": 3,
   "metadata": {},
   "outputs": [],
   "source": [
    "from selenium import webdriver\n",
    "from selenium.webdriver.chrome.service import Service\n",
    "from selenium.webdriver.common.by import By\n",
    "import random"
   ]
  },
  {
   "cell_type": "code",
   "execution_count": 4,
   "metadata": {},
   "outputs": [],
   "source": [
    "url1=['https://www.indiabix.com/database/introduction-to-database/','https://www.indiabix.com/database/introduction-to-database/101002','https://www.indiabix.com/database/introduction-to-database/101003','https://www.indiabix.com/database/introduction-to-database/101004']\n",
    "url2=['https://www.indiabix.com/database/introduction-to-sql/','https://www.indiabix.com/database/introduction-to-sql/103002','https://www.indiabix.com/database/introduction-to-sql/103003','https://www.indiabix.com/database/introduction-to-sql/103004']\n",
    "url3=['https://www.indiabix.com/database/database-design-using-normalization/','https://www.indiabix.com/database/database-design-using-normalization/107002','https://www.indiabix.com/database/database-design-using-normalization/107003','https://www.indiabix.com/database/database-design-using-normalization/107004']\n",
    "url4=['https://www.indiabix.com/logical-reasoning/number-series/','https://www.indiabix.com/logical-reasoning/number-series/001002','https://www.indiabix.com/logical-reasoning/number-series/001003','https://www.indiabix.com/logical-reasoning/number-series/001004']\n",
    "url5=['https://www.indiabix.com/logical-reasoning/verbal-classification/','https://www.indiabix.com/logical-reasoning/verbal-classification/007002','https://www.indiabix.com/logical-reasoning/verbal-classification/007003','https://www.indiabix.com/logical-reasoning/verbal-classification/007004']\n",
    "url6=['https://www.indiabix.com/logical-reasoning/analogies/','https://www.indiabix.com/logical-reasoning/analogies/012002','https://www.indiabix.com/logical-reasoning/analogies/012003','https://www.indiabix.com/logical-reasoning/analogies/012004']"
   ]
  },
  {
   "cell_type": "code",
   "execution_count": 20,
   "metadata": {},
   "outputs": [
    {
     "name": "stdout",
     "output_type": "stream",
     "text": [
      "['You can add a row using SQL in a database with which of the following?', 'ADD', 'CREATE', 'INSERT', 'MAKE', 'C', 'easy']\n",
      "[\"The command to remove rows from a table 'CUSTOMER' is:\", 'REMOVE FROM CUSTOMER ...', 'DROP FROM CUSTOMER ...', 'DELETE FROM CUSTOMER WHERE ...', 'UPDATE FROM CUSTOMER ...', 'C', 'hard']\n",
      "['The SQL WHERE clause:', 'limits the column data that are returned.', 'limits the row data are returned.', 'Both A and B are correct.', 'Neither A nor B are correct.', 'B', 'easy']\n",
      "['Which of the following is the original purpose of SQL?', 'To specify the syntax and semantics of SQL data definition language', 'To specify the syntax and semantics of SQL manipulation language', 'To define the data structures', 'All of the above.', 'D', 'easy']\n",
      "['The wildcard in a WHERE clause is useful when?', 'An exact match is necessary in a SELECT statement.', 'An exact match is not possible in a SELECT statement.', 'An exact match is necessary in a CREATE statement.', 'An exact match is not possible in a CREATE statement.', 'B', 'hard']\n",
      "['A view is which of the following?', 'A virtual table that can be accessed via SQL commands', 'A virtual table that cannot be accessed via SQL commands', 'A base table that can be accessed via SQL commands', 'A base table that cannot be accessed via SQL commands', 'A', 'medium']\n",
      "['The command to eliminate a table from a database is:', 'REMOVE TABLE CUSTOMER;', 'DROP TABLE CUSTOMER;', 'DELETE TABLE CUSTOMER;', 'UPDATE TABLE CUSTOMER;', 'B', 'medium']\n",
      "['ON UPDATE CASCADE ensures which of the following?', 'Normalization', 'Data Integrity', 'Materialized Views', 'All of the above.', 'B', 'hard']\n",
      "['SQL data definition commands make up a(n)  .', 'DDL', 'DML', 'HTML', 'XML', 'A', 'hard']\n",
      "['Which of the following is valid SQL for an Index?', 'CREATE INDEX ID;', 'CHANGE INDEX ID;', 'ADD INDEX ID;', 'REMOVE INDEX ID;', 'A', 'medium']\n",
      "['The SQL keyword(s)  is used with wildcards.', 'LIKE only', 'IN only', 'NOT IN only', 'IN and NOT IN', 'A', 'medium']\n",
      "['Which of the following is the correct order of keywords for SQL SELECT statements?', 'SELECT, FROM, WHERE', 'FROM, WHERE, SELECT', 'WHERE, FROM,SELECT', 'SELECT,WHERE,FROM', 'A', 'easy']\n",
      "['A subquery in an SQL SELECT statement is enclosed in:', 'braces -- {...}.', 'CAPITAL LETTERS.', 'parenthesis -- (...) .', 'brackets -- [...].', 'C', 'medium']\n",
      "['The result of a SQL SELECT statement is a(n)  .', 'report', 'form', 'file', 'table', 'D', 'medium']\n",
      "['Which of the following are the five built-in functions provided by SQL?', 'COUNT, SUM, AVG, MAX, MIN', 'SUM, AVG, MIN, MAX, MULT', 'SUM, AVG, MULT, DIV, MIN', 'SUM, AVG, MIN, MAX, NAME', 'A', 'medium']\n",
      "['In an SQL SELECT statement querying a single table, according to the SQL-92 standard the asterisk (*) means that:', 'all columns of the table are to be returned.', 'all records meeting the full criteria are to be returned.', 'all records with even partial criteria met are to be returned.', 'None of the above is correct.', 'A', 'medium']\n",
      "['The HAVING clause does which of the following?', 'Acts like a WHERE clause but is used for groups rather than rows.', 'Acts like a WHERE clause but is used for rows rather than columns.', 'Acts like a WHERE clause but is used for columns rather than groups.', 'Acts EXACTLY like a WHERE clause.', 'A', 'medium']\n",
      "['The SQL -92 wildcards are  and  .', 'asterisk (*); percent sign (%)', 'percent sign (%); underscore (_)', 'underscore(_); question mark (?)', 'question mark (?); asterisk (*)', 'B', 'easy']\n",
      "['To remove duplicate rows from the results of an SQL SELECT statement, the  qualifier specified must be included.', 'ONLY', 'UNIQUE', 'DISTINCT', 'SINGLE', 'C', 'easy']\n",
      "['The benefits of a standard relational language include which of the following?', 'Reduced training costs', 'Increased dependence on a single vendor', 'Applications are not needed.', 'All of the above.', 'A', 'hard']\n"
     ]
    }
   ],
   "source": [
    "questionnaire=[]\n",
    "difficulty=['easy','medium','hard']\n",
    "service = Service(executable_path=\"chromedriver.exe\")\n",
    "driver = webdriver.Chrome(service=service)\n",
    "for url in url1:\n",
    "    driver.get(url)\n",
    "    quiz=driver.find_elements(By.CLASS_NAME,\"bix-div-container\")\n",
    "    for i in quiz:\n",
    "        obj=[]\n",
    "        quiz_question = i.find_element(By.CLASS_NAME,\"bix-td-qtxt\").text\n",
    "        obj.append(quiz_question)\n",
    "        quiz_options = i.find_elements(By.CLASS_NAME,\"bix-td-option-val\")\n",
    "        for j in quiz_options:\n",
    "            obj.append(j.text)\n",
    "        quiz_answer= i.find_element(By.CLASS_NAME,\"jq-hdnakq\").get_attribute('value')\n",
    "        obj.append(quiz_answer)\n",
    "        diff=random.randint(0,2)\n",
    "        obj.append(difficulty[diff])\n",
    "        questionnaire.append(obj)\n",
    "\n",
    "for record in questionnaire:\n",
    "    record[0] = record[0].replace('_', '')\n",
    "    for i in range(1, len(record)):\n",
    "        record[i] = record[i].replace(\"'\", '')\n",
    "    print(record)"
   ]
  },
  {
   "cell_type": "code",
   "execution_count": 23,
   "metadata": {},
   "outputs": [
    {
     "name": "stdout",
     "output_type": "stream",
     "text": [
      "INSERT INTO user_questionnaire(question,choice1,choice2,choice3,choice4,answer,difficulty,lessonid_id) VALUES ('You can add a row using SQL in a database with which of the following?','ADD','CREATE','INSERT','MAKE','C','easy',9);\n",
      "INSERT INTO user_questionnaire(question,choice1,choice2,choice3,choice4,answer,difficulty,lessonid_id) VALUES ('The command to remove rows from a table 'CUSTOMER' is:','REMOVE FROM CUSTOMER ...','DROP FROM CUSTOMER ...','DELETE FROM CUSTOMER WHERE ...','UPDATE FROM CUSTOMER ...','C','hard',9);\n"
     ]
    },
    {
     "ename": "SyntaxError",
     "evalue": "syntax error at or near \"CUSTOMER\"\nLINE 1: ...VALUES ('The command to remove rows from a table 'CUSTOMER' ...\n                                                             ^\n",
     "output_type": "error",
     "traceback": [
      "\u001b[1;31m---------------------------------------------------------------------------\u001b[0m",
      "\u001b[1;31mSyntaxError\u001b[0m                               Traceback (most recent call last)",
      "Cell \u001b[1;32mIn[23], line 6\u001b[0m\n\u001b[0;32m      4\u001b[0m     statement \u001b[38;5;241m=\u001b[39m \u001b[38;5;124mf\u001b[39m\u001b[38;5;124m\"\"\"\u001b[39m\u001b[38;5;124mINSERT INTO user_questionnaire(question,choice1,choice2,choice3,choice4,answer,difficulty,lessonid_id) VALUES (\u001b[39m\u001b[38;5;124m'\u001b[39m\u001b[38;5;132;01m{\u001b[39;00mqa[\u001b[38;5;241m0\u001b[39m]\u001b[38;5;132;01m}\u001b[39;00m\u001b[38;5;124m'\u001b[39m\u001b[38;5;124m,\u001b[39m\u001b[38;5;124m'\u001b[39m\u001b[38;5;132;01m{\u001b[39;00mqa[\u001b[38;5;241m1\u001b[39m]\u001b[38;5;132;01m}\u001b[39;00m\u001b[38;5;124m'\u001b[39m\u001b[38;5;124m,\u001b[39m\u001b[38;5;124m'\u001b[39m\u001b[38;5;132;01m{\u001b[39;00mqa[\u001b[38;5;241m2\u001b[39m]\u001b[38;5;132;01m}\u001b[39;00m\u001b[38;5;124m'\u001b[39m\u001b[38;5;124m,\u001b[39m\u001b[38;5;124m'\u001b[39m\u001b[38;5;132;01m{\u001b[39;00mqa[\u001b[38;5;241m3\u001b[39m]\u001b[38;5;132;01m}\u001b[39;00m\u001b[38;5;124m'\u001b[39m\u001b[38;5;124m,\u001b[39m\u001b[38;5;124m'\u001b[39m\u001b[38;5;132;01m{\u001b[39;00mqa[\u001b[38;5;241m4\u001b[39m]\u001b[38;5;132;01m}\u001b[39;00m\u001b[38;5;124m'\u001b[39m\u001b[38;5;124m,\u001b[39m\u001b[38;5;124m'\u001b[39m\u001b[38;5;132;01m{\u001b[39;00mqa[\u001b[38;5;241m5\u001b[39m]\u001b[38;5;132;01m}\u001b[39;00m\u001b[38;5;124m'\u001b[39m\u001b[38;5;124m,\u001b[39m\u001b[38;5;124m'\u001b[39m\u001b[38;5;132;01m{\u001b[39;00mqa[\u001b[38;5;241m6\u001b[39m]\u001b[38;5;132;01m}\u001b[39;00m\u001b[38;5;124m'\u001b[39m\u001b[38;5;124m,9);\u001b[39m\u001b[38;5;124m\"\"\"\u001b[39m\n\u001b[0;32m      5\u001b[0m     \u001b[38;5;28mprint\u001b[39m(statement)\n\u001b[1;32m----> 6\u001b[0m     \u001b[43mcursor\u001b[49m\u001b[38;5;241;43m.\u001b[39;49m\u001b[43mexecute\u001b[49m\u001b[43m(\u001b[49m\u001b[43mstatement\u001b[49m\u001b[43m)\u001b[49m\n\u001b[0;32m      8\u001b[0m conn\u001b[38;5;241m.\u001b[39mcommit()\n\u001b[0;32m      9\u001b[0m conn\u001b[38;5;241m.\u001b[39mclose()\n",
      "\u001b[1;31mSyntaxError\u001b[0m: syntax error at or near \"CUSTOMER\"\nLINE 1: ...VALUES ('The command to remove rows from a table 'CUSTOMER' ...\n                                                             ^\n"
     ]
    }
   ],
   "source": [
    "cursor = conn.cursor()\n",
    "\n",
    "for qa in questionnaire:\n",
    "    statement = f\"\"\"INSERT INTO user_questionnaire(question,choice1,choice2,choice3,choice4,answer,difficulty,lessonid_id) VALUES ('{qa[0]}','{qa[1]}','{qa[2]}','{qa[3]}','{qa[4]}','{qa[5]}','{qa[6]}',9);\"\"\"\n",
    "    print(statement)\n",
    "    cursor.execute(statement)\n",
    "\n",
    "conn.commit()\n",
    "conn.close()"
   ]
  }
 ],
 "metadata": {
  "kernelspec": {
   "display_name": ".venv",
   "language": "python",
   "name": "python3"
  },
  "language_info": {
   "codemirror_mode": {
    "name": "ipython",
    "version": 3
   },
   "file_extension": ".py",
   "mimetype": "text/x-python",
   "name": "python",
   "nbconvert_exporter": "python",
   "pygments_lexer": "ipython3",
   "version": "3.11.4"
  }
 },
 "nbformat": 4,
 "nbformat_minor": 2
}
