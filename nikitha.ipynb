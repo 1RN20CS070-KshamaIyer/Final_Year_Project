{
 "cells": [
  {
   "cell_type": "code",
   "execution_count": 1,
   "metadata": {},
   "outputs": [],
   "source": [
    "VARK=[[\"I want to save more money and to decide between a range of options. I would:\",\"use graphs showing different options for different time periods.\",\"talk with an expert about the options.\",\"read a print brochure that describes the options in detail.\",\"consider examples of each option using my financial information.\"] ,[\"I want to learn about a new project. I would ask for:\",\"diagrams to show the project stages with charts of benefits and costs.\",\"an opportunity to discuss the project.\",\"a written report describing the main features of the project.\",\"examples where the project has been used successfully.\"] ,[\"I want to learn how to play a new board game or card game. I would:\",\"use the diagrams that explain the various stages, moves and strategies in the game.\",\"listen to somebody explaining it and ask questions.\",\"read the instructions.\",\"watch others play the game before joining in.\"] ,[\"I am having trouble assembling a wooden table that came in parts (kitset). I would:\",\"study diagrams showing each stage of the assembly.\",\"ask for advice from someone who assembles furniture.\",\"read the instructions that came with the table.\",\"watch a video of a person assembling a similar table.\"] ,[\"When I am learning I:\",\"see patterns in things.\",\"like to talk things through.\",\"read books, articles and handouts.\",\"use examples and applications.\"] ,[\"I prefer a presenter or a teacher who uses:\",\"diagrams, charts, maps or graphs.\",\"question and answer, talk, group discussion, or guest speakers.\",\"handouts, books, or readings.\",\"demonstrations, models or practical sessions.\"] ,[\"I want to find out more about a tour that I am going on. I would:\",\"use a map and see where the places are.\",\"talk with the person who planned the tour or others who are going on the tour.\",\"read about the tour on the itinerary.\",\"look at details about the highlights and activities on the tour.\"] ,[\"When finding my way, I:\",\"rely on paper maps or GPS maps.\",\"rely on verbal instructions from GPS or from someone traveling with me.\",\"like to read instructions from GPS or instructions that have been written.\",\"head in the general direction to see if I can find my destination without instructions.\"] ,[\"I want to learn to do something new on a computer. I would:\",\"follow the diagrams in a book.\",\"talk with people who know about the program.\",\"read the written instructions that came with the program.\",\"start using it and learn by trial and error.\"] ,[\"I want to learn how to take better photos. I would:\",\"use diagrams showing the camera and what each part does.\",\"ask questions and talk about the camera and its features.\",\"use the written instructions about what to do.\",\"use examples of good and poor photos showing how to improve them.\"] ,[\"A website has a video showing how to make a special graph or chart. There is a person speaking, some lists and words describing what to do and some diagrams. I would learn most from:\",\"reading the words.\",\"listening.\",\"seeing the diagrams.\",\"watching the actions.\"] ,[\"When choosing a career or area of study, these are important for me:\",\"Working with designs, maps or charts.\",\"Communicating with others through discussion.\",\"Using words well in written communications.\",\"Applying my knowledge in real situations.\"] ,[\"When learning from the Internet I like:\",\"interesting design and visual features.\",\"podcasts and videos where I can listen to experts.\",\"detailed articles.\",\"videos showing how to do things.\"] ,[\"I want to find out about a house or an apartment. Before visiting it I would want:\",\"a plan showing the rooms and a map of the area.\",\"a discussion with the owner.\",\"a printed description of the rooms and features.\",\"to view a video of the property.\"] ,[\"I have finished a competition or test and I would like some feedback:\",\"from somebody who talks it through with me.\",\"using graphs showing how my performance has improved.\",\"using a written description of my results.\",\"using examples from what I have done.\"] ,[\"I have been advised by the doctor that I have a medical problem and I have some questions about it. I would:\",\"look at a diagram showing what was wrong.\",\"have a detailed discussion with my doctor.\",\"read an article that explains the problem.\",\"use a 3D model to see what is wrong.\"]]"
   ]
  },
  {
   "cell_type": "code",
   "execution_count": 2,
   "metadata": {},
   "outputs": [
    {
     "name": "stdout",
     "output_type": "stream",
     "text": [
      "[[1, 'I want to save more money and to decide between a range of options. I would:', 'use graphs showing different options for different time periods.', 'talk with an expert about the options.', 'read a print brochure that describes the options in detail.', 'consider examples of each option using my financial information.'], [2, 'I want to learn about a new project. I would ask for:', 'diagrams to show the project stages with charts of benefits and costs.', 'an opportunity to discuss the project.', 'a written report describing the main features of the project.', 'examples where the project has been used successfully.'], [3, 'I want to learn how to play a new board game or card game. I would:', 'use the diagrams that explain the various stages, moves and strategies in the game.', 'listen to somebody explaining it and ask questions.', 'read the instructions.', 'watch others play the game before joining in.'], [4, 'I am having trouble assembling a wooden table that came in parts (kitset). I would:', 'study diagrams showing each stage of the assembly.', 'ask for advice from someone who assembles furniture.', 'read the instructions that came with the table.', 'watch a video of a person assembling a similar table.'], [5, 'When I am learning I:', 'see patterns in things.', 'like to talk things through.', 'read books, articles and handouts.', 'use examples and applications.'], [6, 'I prefer a presenter or a teacher who uses:', 'diagrams, charts, maps or graphs.', 'question and answer, talk, group discussion, or guest speakers.', 'handouts, books, or readings.', 'demonstrations, models or practical sessions.'], [7, 'I want to find out more about a tour that I am going on. I would:', 'use a map and see where the places are.', 'talk with the person who planned the tour or others who are going on the tour.', 'read about the tour on the itinerary.', 'look at details about the highlights and activities on the tour.'], [8, 'When finding my way, I:', 'rely on paper maps or GPS maps.', 'rely on verbal instructions from GPS or from someone traveling with me.', 'like to read instructions from GPS or instructions that have been written.', 'head in the general direction to see if I can find my destination without instructions.'], [9, 'I want to learn to do something new on a computer. I would:', 'follow the diagrams in a book.', 'talk with people who know about the program.', 'read the written instructions that came with the program.', 'start using it and learn by trial and error.'], [10, 'I want to learn how to take better photos. I would:', 'use diagrams showing the camera and what each part does.', 'ask questions and talk about the camera and its features.', 'use the written instructions about what to do.', 'use examples of good and poor photos showing how to improve them.'], [11, 'A website has a video showing how to make a special graph or chart. There is a person speaking, some lists and words describing what to do and some diagrams. I would learn most from:', 'reading the words.', 'listening.', 'seeing the diagrams.', 'watching the actions.'], [12, 'When choosing a career or area of study, these are important for me:', 'Working with designs, maps or charts.', 'Communicating with others through discussion.', 'Using words well in written communications.', 'Applying my knowledge in real situations.'], [13, 'When learning from the Internet I like:', 'interesting design and visual features.', 'podcasts and videos where I can listen to experts.', 'detailed articles.', 'videos showing how to do things.'], [14, 'I want to find out about a house or an apartment. Before visiting it I would want:', 'a plan showing the rooms and a map of the area.', 'a discussion with the owner.', 'a printed description of the rooms and features.', 'to view a video of the property.'], [15, 'I have finished a competition or test and I would like some feedback:', 'from somebody who talks it through with me.', 'using graphs showing how my performance has improved.', 'using a written description of my results.', 'using examples from what I have done.'], [16, 'I have been advised by the doctor that I have a medical problem and I have some questions about it. I would:', 'look at a diagram showing what was wrong.', 'have a detailed discussion with my doctor.', 'read an article that explains the problem.', 'use a 3D model to see what is wrong.']]\n"
     ]
    }
   ],
   "source": [
    "VARK1 = [[i+1, *qa] for i, qa in enumerate(VARK)]\n",
    "print(VARK1)"
   ]
  },
  {
   "cell_type": "code",
   "execution_count": 5,
   "metadata": {},
   "outputs": [],
   "source": [
    "import psycopg2"
   ]
  },
  {
   "cell_type": "code",
   "execution_count": 6,
   "metadata": {},
   "outputs": [],
   "source": [
    "conn = psycopg2.connect(\n",
    "    host = \"localhost\",\n",
    "    database = \"learningPlatform\",\n",
    "    user=\"batch9\",\n",
    "    password = \"mypassword\"\n",
    ")"
   ]
  },
  {
   "cell_type": "code",
   "execution_count": 7,
   "metadata": {},
   "outputs": [
    {
     "name": "stdout",
     "output_type": "stream",
     "text": [
      "INSERT INTO user_firstquiz(question,choice1,choice2,choice3,choice4) VALUES ('I want to save more money and to decide between a range of options. I would:','use graphs showing different options for different time periods.','talk with an expert about the options.','read a print brochure that describes the options in detail.','consider examples of each option using my financial information.');\n",
      "INSERT INTO user_firstquiz(question,choice1,choice2,choice3,choice4) VALUES ('I want to learn about a new project. I would ask for:','diagrams to show the project stages with charts of benefits and costs.','an opportunity to discuss the project.','a written report describing the main features of the project.','examples where the project has been used successfully.');\n",
      "INSERT INTO user_firstquiz(question,choice1,choice2,choice3,choice4) VALUES ('I want to learn how to play a new board game or card game. I would:','use the diagrams that explain the various stages, moves and strategies in the game.','listen to somebody explaining it and ask questions.','read the instructions.','watch others play the game before joining in.');\n",
      "INSERT INTO user_firstquiz(question,choice1,choice2,choice3,choice4) VALUES ('I am having trouble assembling a wooden table that came in parts (kitset). I would:','study diagrams showing each stage of the assembly.','ask for advice from someone who assembles furniture.','read the instructions that came with the table.','watch a video of a person assembling a similar table.');\n",
      "INSERT INTO user_firstquiz(question,choice1,choice2,choice3,choice4) VALUES ('When I am learning I:','see patterns in things.','like to talk things through.','read books, articles and handouts.','use examples and applications.');\n",
      "INSERT INTO user_firstquiz(question,choice1,choice2,choice3,choice4) VALUES ('I prefer a presenter or a teacher who uses:','diagrams, charts, maps or graphs.','question and answer, talk, group discussion, or guest speakers.','handouts, books, or readings.','demonstrations, models or practical sessions.');\n",
      "INSERT INTO user_firstquiz(question,choice1,choice2,choice3,choice4) VALUES ('I want to find out more about a tour that I am going on. I would:','use a map and see where the places are.','talk with the person who planned the tour or others who are going on the tour.','read about the tour on the itinerary.','look at details about the highlights and activities on the tour.');\n",
      "INSERT INTO user_firstquiz(question,choice1,choice2,choice3,choice4) VALUES ('When finding my way, I:','rely on paper maps or GPS maps.','rely on verbal instructions from GPS or from someone traveling with me.','like to read instructions from GPS or instructions that have been written.','head in the general direction to see if I can find my destination without instructions.');\n",
      "INSERT INTO user_firstquiz(question,choice1,choice2,choice3,choice4) VALUES ('I want to learn to do something new on a computer. I would:','follow the diagrams in a book.','talk with people who know about the program.','read the written instructions that came with the program.','start using it and learn by trial and error.');\n",
      "INSERT INTO user_firstquiz(question,choice1,choice2,choice3,choice4) VALUES ('I want to learn how to take better photos. I would:','use diagrams showing the camera and what each part does.','ask questions and talk about the camera and its features.','use the written instructions about what to do.','use examples of good and poor photos showing how to improve them.');\n",
      "INSERT INTO user_firstquiz(question,choice1,choice2,choice3,choice4) VALUES ('A website has a video showing how to make a special graph or chart. There is a person speaking, some lists and words describing what to do and some diagrams. I would learn most from:','reading the words.','listening.','seeing the diagrams.','watching the actions.');\n",
      "INSERT INTO user_firstquiz(question,choice1,choice2,choice3,choice4) VALUES ('When choosing a career or area of study, these are important for me:','Working with designs, maps or charts.','Communicating with others through discussion.','Using words well in written communications.','Applying my knowledge in real situations.');\n",
      "INSERT INTO user_firstquiz(question,choice1,choice2,choice3,choice4) VALUES ('When learning from the Internet I like:','interesting design and visual features.','podcasts and videos where I can listen to experts.','detailed articles.','videos showing how to do things.');\n",
      "INSERT INTO user_firstquiz(question,choice1,choice2,choice3,choice4) VALUES ('I want to find out about a house or an apartment. Before visiting it I would want:','a plan showing the rooms and a map of the area.','a discussion with the owner.','a printed description of the rooms and features.','to view a video of the property.');\n",
      "INSERT INTO user_firstquiz(question,choice1,choice2,choice3,choice4) VALUES ('I have finished a competition or test and I would like some feedback:','from somebody who talks it through with me.','using graphs showing how my performance has improved.','using a written description of my results.','using examples from what I have done.');\n",
      "INSERT INTO user_firstquiz(question,choice1,choice2,choice3,choice4) VALUES ('I have been advised by the doctor that I have a medical problem and I have some questions about it. I would:','look at a diagram showing what was wrong.','have a detailed discussion with my doctor.','read an article that explains the problem.','use a 3D model to see what is wrong.');\n"
     ]
    }
   ],
   "source": [
    "cursor = conn.cursor()\n",
    "\n",
    "# Prepare the SQL statement with placeholders\n",
    "# statement = \"\"\"INSERT INTO user_firstquiz(question, choice1, choice2, choice3, choice4)VALUES (\"%s\",\"%s\", \"%s\",\"%s\",\"%s\");\"\"\"\n",
    "\n",
    "# Iterate through the VARK data and execute the statement with each row's values\n",
    "for qa in VARK:\n",
    "    statement = f\"\"\"INSERT INTO user_firstquiz(question,choice1,choice2,choice3,choice4) VALUES ('{qa[0]}','{qa[1]}','{qa[2]}','{qa[3]}','{qa[4]}');\"\"\"\n",
    "    print(statement)\n",
    "    cursor.execute(statement)\n",
    "\n",
    "# Commit the changes\n",
    "conn.commit()\n",
    "\n",
    "# Close the connection\n",
    "conn.close()"
   ]
  },
  {
   "cell_type": "code",
   "execution_count": null,
   "metadata": {},
   "outputs": [],
   "source": []
  }
 ],
 "metadata": {
  "kernelspec": {
   "display_name": ".venv",
   "language": "python",
   "name": "python3"
  },
  "language_info": {
   "codemirror_mode": {
    "name": "ipython",
    "version": 3
   },
   "file_extension": ".py",
   "mimetype": "text/x-python",
   "name": "python",
   "nbconvert_exporter": "python",
   "pygments_lexer": "ipython3",
   "version": "3.11.4"
  }
 },
 "nbformat": 4,
 "nbformat_minor": 2
}
