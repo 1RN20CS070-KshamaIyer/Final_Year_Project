{
 "cells": [
  {
   "cell_type": "code",
   "execution_count": 1,
   "metadata": {},
   "outputs": [],
   "source": [
    "VARK=[[\"I want to save more money and to decide between a range of options. I would:\",\"use graphs showing different options for different time periods.\",\"talk with an expert about the options.\",\"read a print brochure that describes the options in detail.\",\"consider examples of each option using my financial information.\"] ,[\"I want to learn about a new project. I would ask for:\",\"diagrams to show the project stages with charts of benefits and costs.\",\"an opportunity to discuss the project.\",\"a written report describing the main features of the project.\",\"examples where the project has been used successfully.\"] ,[\"I want to learn how to play a new board game or card game. I would:\",\"use the diagrams that explain the various stages, moves and strategies in the game.\",\"listen to somebody explaining it and ask questions.\",\"read the instructions.\",\"watch others play the game before joining in.\"] ,[\"I am having trouble assembling a wooden table that came in parts (kitset). I would:\",\"study diagrams showing each stage of the assembly.\",\"ask for advice from someone who assembles furniture.\",\"read the instructions that came with the table.\",\"watch a video of a person assembling a similar table.\"] ,[\"When I am learning I:\",\"see patterns in things.\",\"like to talk things through.\",\"read books, articles and handouts.\",\"use examples and applications.\"] ,[\"I prefer a presenter or a teacher who uses:\",\"diagrams, charts, maps or graphs.\",\"question and answer, talk, group discussion, or guest speakers.\",\"handouts, books, or readings.\",\"demonstrations, models or practical sessions.\"] ,[\"I want to find out more about a tour that I am going on. I would:\",\"use a map and see where the places are.\",\"talk with the person who planned the tour or others who are going on the tour.\",\"read about the tour on the itinerary.\",\"look at details about the highlights and activities on the tour.\"] ,[\"When finding my way, I:\",\"rely on paper maps or GPS maps.\",\"rely on verbal instructions from GPS or from someone traveling with me.\",\"like to read instructions from GPS or instructions that have been written.\",\"head in the general direction to see if I can find my destination without instructions.\"] ,[\"I want to learn to do something new on a computer. I would:\",\"follow the diagrams in a book.\",\"talk with people who know about the program.\",\"read the written instructions that came with the program.\",\"start using it and learn by trial and error.\"] ,[\"I want to learn how to take better photos. I would:\",\"use diagrams showing the camera and what each part does.\",\"ask questions and talk about the camera and its features.\",\"use the written instructions about what to do.\",\"use examples of good and poor photos showing how to improve them.\"] ,[\"A website has a video showing how to make a special graph or chart. There is a person speaking, some lists and words describing what to do and some diagrams. I would learn most from:\",\"reading the words.\",\"listening.\",\"seeing the diagrams.\",\"watching the actions.\"] ,[\"When choosing a career or area of study, these are important for me:\",\"Working with designs, maps or charts.\",\"Communicating with others through discussion.\",\"Using words well in written communications.\",\"Applying my knowledge in real situations.\"] ,[\"When learning from the Internet I like:\",\"interesting design and visual features.\",\"podcasts and videos where I can listen to experts.\",\"detailed articles.\",\"videos showing how to do things.\"] ,[\"I want to find out about a house or an apartment. Before visiting it I would want:\",\"a plan showing the rooms and a map of the area.\",\"a discussion with the owner.\",\"a printed description of the rooms and features.\",\"to view a video of the property.\"] ,[\"I have finished a competition or test and I would like some feedback:\",\"from somebody who talks it through with me.\",\"using graphs showing how my performance has improved.\",\"using a written description of my results.\",\"using examples from what I have done.\"] ,[\"I have been advised by the doctor that I have a medical problem and I have some questions about it. I would:\",\"look at a diagram showing what was wrong.\",\"have a detailed discussion with my doctor.\",\"read an article that explains the problem.\",\"use a 3D model to see what is wrong.\"]]"
   ]
  },
  {
   "cell_type": "code",
   "execution_count": 2,
   "metadata": {},
   "outputs": [
    {
     "name": "stdout",
     "output_type": "stream",
     "text": [
      "[[1, 'I want to save more money and to decide between a range of options. I would:', 'use graphs showing different options for different time periods.', 'talk with an expert about the options.', 'read a print brochure that describes the options in detail.', 'consider examples of each option using my financial information.'], [2, 'I want to learn about a new project. I would ask for:', 'diagrams to show the project stages with charts of benefits and costs.', 'an opportunity to discuss the project.', 'a written report describing the main features of the project.', 'examples where the project has been used successfully.'], [3, 'I want to learn how to play a new board game or card game. I would:', 'use the diagrams that explain the various stages, moves and strategies in the game.', 'listen to somebody explaining it and ask questions.', 'read the instructions.', 'watch others play the game before joining in.'], [4, 'I am having trouble assembling a wooden table that came in parts (kitset). I would:', 'study diagrams showing each stage of the assembly.', 'ask for advice from someone who assembles furniture.', 'read the instructions that came with the table.', 'watch a video of a person assembling a similar table.'], [5, 'When I am learning I:', 'see patterns in things.', 'like to talk things through.', 'read books, articles and handouts.', 'use examples and applications.'], [6, 'I prefer a presenter or a teacher who uses:', 'diagrams, charts, maps or graphs.', 'question and answer, talk, group discussion, or guest speakers.', 'handouts, books, or readings.', 'demonstrations, models or practical sessions.'], [7, 'I want to find out more about a tour that I am going on. I would:', 'use a map and see where the places are.', 'talk with the person who planned the tour or others who are going on the tour.', 'read about the tour on the itinerary.', 'look at details about the highlights and activities on the tour.'], [8, 'When finding my way, I:', 'rely on paper maps or GPS maps.', 'rely on verbal instructions from GPS or from someone traveling with me.', 'like to read instructions from GPS or instructions that have been written.', 'head in the general direction to see if I can find my destination without instructions.'], [9, 'I want to learn to do something new on a computer. I would:', 'follow the diagrams in a book.', 'talk with people who know about the program.', 'read the written instructions that came with the program.', 'start using it and learn by trial and error.'], [10, 'I want to learn how to take better photos. I would:', 'use diagrams showing the camera and what each part does.', 'ask questions and talk about the camera and its features.', 'use the written instructions about what to do.', 'use examples of good and poor photos showing how to improve them.'], [11, 'A website has a video showing how to make a special graph or chart. There is a person speaking, some lists and words describing what to do and some diagrams. I would learn most from:', 'reading the words.', 'listening.', 'seeing the diagrams.', 'watching the actions.'], [12, 'When choosing a career or area of study, these are important for me:', 'Working with designs, maps or charts.', 'Communicating with others through discussion.', 'Using words well in written communications.', 'Applying my knowledge in real situations.'], [13, 'When learning from the Internet I like:', 'interesting design and visual features.', 'podcasts and videos where I can listen to experts.', 'detailed articles.', 'videos showing how to do things.'], [14, 'I want to find out about a house or an apartment. Before visiting it I would want:', 'a plan showing the rooms and a map of the area.', 'a discussion with the owner.', 'a printed description of the rooms and features.', 'to view a video of the property.'], [15, 'I have finished a competition or test and I would like some feedback:', 'from somebody who talks it through with me.', 'using graphs showing how my performance has improved.', 'using a written description of my results.', 'using examples from what I have done.'], [16, 'I have been advised by the doctor that I have a medical problem and I have some questions about it. I would:', 'look at a diagram showing what was wrong.', 'have a detailed discussion with my doctor.', 'read an article that explains the problem.', 'use a 3D model to see what is wrong.']]\n"
     ]
    }
   ],
   "source": [
    "VARK1 = [[i+1, *qa] for i, qa in enumerate(VARK)]\n",
    "print(VARK1)"
   ]
  },
  {
   "cell_type": "code",
   "execution_count": 5,
   "metadata": {},
   "outputs": [],
   "source": [
    "import psycopg2"
   ]
  },
  {
   "cell_type": "code",
   "execution_count": 6,
   "metadata": {},
   "outputs": [],
   "source": [
    "conn = psycopg2.connect(\n",
    "    host = \"localhost\",\n",
    "    database = \"learningPlatform\",\n",
    "    user=\"batch9\",\n",
    "    password = \"mypassword\"\n",
    ")"
   ]
  },
  {
   "cell_type": "code",
   "execution_count": 7,
   "metadata": {},
   "outputs": [
    {
     "name": "stdout",
     "output_type": "stream",
     "text": [
      "INSERT INTO user_firstquiz(question,choice1,choice2,choice3,choice4) VALUES ('I want to save more money and to decide between a range of options. I would:','use graphs showing different options for different time periods.','talk with an expert about the options.','read a print brochure that describes the options in detail.','consider examples of each option using my financial information.');\n",
      "INSERT INTO user_firstquiz(question,choice1,choice2,choice3,choice4) VALUES ('I want to learn about a new project. I would ask for:','diagrams to show the project stages with charts of benefits and costs.','an opportunity to discuss the project.','a written report describing the main features of the project.','examples where the project has been used successfully.');\n",
      "INSERT INTO user_firstquiz(question,choice1,choice2,choice3,choice4) VALUES ('I want to learn how to play a new board game or card game. I would:','use the diagrams that explain the various stages, moves and strategies in the game.','listen to somebody explaining it and ask questions.','read the instructions.','watch others play the game before joining in.');\n",
      "INSERT INTO user_firstquiz(question,choice1,choice2,choice3,choice4) VALUES ('I am having trouble assembling a wooden table that came in parts (kitset). I would:','study diagrams showing each stage of the assembly.','ask for advice from someone who assembles furniture.','read the instructions that came with the table.','watch a video of a person assembling a similar table.');\n",
      "INSERT INTO user_firstquiz(question,choice1,choice2,choice3,choice4) VALUES ('When I am learning I:','see patterns in things.','like to talk things through.','read books, articles and handouts.','use examples and applications.');\n",
      "INSERT INTO user_firstquiz(question,choice1,choice2,choice3,choice4) VALUES ('I prefer a presenter or a teacher who uses:','diagrams, charts, maps or graphs.','question and answer, talk, group discussion, or guest speakers.','handouts, books, or readings.','demonstrations, models or practical sessions.');\n",
      "INSERT INTO user_firstquiz(question,choice1,choice2,choice3,choice4) VALUES ('I want to find out more about a tour that I am going on. I would:','use a map and see where the places are.','talk with the person who planned the tour or others who are going on the tour.','read about the tour on the itinerary.','look at details about the highlights and activities on the tour.');\n",
      "INSERT INTO user_firstquiz(question,choice1,choice2,choice3,choice4) VALUES ('When finding my way, I:','rely on paper maps or GPS maps.','rely on verbal instructions from GPS or from someone traveling with me.','like to read instructions from GPS or instructions that have been written.','head in the general direction to see if I can find my destination without instructions.');\n",
      "INSERT INTO user_firstquiz(question,choice1,choice2,choice3,choice4) VALUES ('I want to learn to do something new on a computer. I would:','follow the diagrams in a book.','talk with people who know about the program.','read the written instructions that came with the program.','start using it and learn by trial and error.');\n",
      "INSERT INTO user_firstquiz(question,choice1,choice2,choice3,choice4) VALUES ('I want to learn how to take better photos. I would:','use diagrams showing the camera and what each part does.','ask questions and talk about the camera and its features.','use the written instructions about what to do.','use examples of good and poor photos showing how to improve them.');\n",
      "INSERT INTO user_firstquiz(question,choice1,choice2,choice3,choice4) VALUES ('A website has a video showing how to make a special graph or chart. There is a person speaking, some lists and words describing what to do and some diagrams. I would learn most from:','reading the words.','listening.','seeing the diagrams.','watching the actions.');\n",
      "INSERT INTO user_firstquiz(question,choice1,choice2,choice3,choice4) VALUES ('When choosing a career or area of study, these are important for me:','Working with designs, maps or charts.','Communicating with others through discussion.','Using words well in written communications.','Applying my knowledge in real situations.');\n",
      "INSERT INTO user_firstquiz(question,choice1,choice2,choice3,choice4) VALUES ('When learning from the Internet I like:','interesting design and visual features.','podcasts and videos where I can listen to experts.','detailed articles.','videos showing how to do things.');\n",
      "INSERT INTO user_firstquiz(question,choice1,choice2,choice3,choice4) VALUES ('I want to find out about a house or an apartment. Before visiting it I would want:','a plan showing the rooms and a map of the area.','a discussion with the owner.','a printed description of the rooms and features.','to view a video of the property.');\n",
      "INSERT INTO user_firstquiz(question,choice1,choice2,choice3,choice4) VALUES ('I have finished a competition or test and I would like some feedback:','from somebody who talks it through with me.','using graphs showing how my performance has improved.','using a written description of my results.','using examples from what I have done.');\n",
      "INSERT INTO user_firstquiz(question,choice1,choice2,choice3,choice4) VALUES ('I have been advised by the doctor that I have a medical problem and I have some questions about it. I would:','look at a diagram showing what was wrong.','have a detailed discussion with my doctor.','read an article that explains the problem.','use a 3D model to see what is wrong.');\n"
     ]
    }
   ],
   "source": [
    "cursor = conn.cursor()\n",
    "\n",
    "# Prepare the SQL statement with placeholders\n",
    "# statement = \"\"\"INSERT INTO user_firstquiz(question, choice1, choice2, choice3, choice4)VALUES (\"%s\",\"%s\", \"%s\",\"%s\",\"%s\");\"\"\"\n",
    "\n",
    "# Iterate through the VARK data and execute the statement with each row's values\n",
    "for qa in VARK:\n",
    "    statement = f\"\"\"INSERT INTO user_firstquiz(question,choice1,choice2,choice3,choice4) VALUES ('{qa[0]}','{qa[1]}','{qa[2]}','{qa[3]}','{qa[4]}');\"\"\"\n",
    "    print(statement)\n",
    "    cursor.execute(statement)\n",
    "\n",
    "# Commit the changes\n",
    "conn.commit()\n",
    "\n",
    "# Close the connection\n",
    "conn.close()"
   ]
  },
  {
   "cell_type": "code",
   "execution_count": 73,
   "metadata": {},
   "outputs": [],
   "source": [
    "from selenium import webdriver\n",
    "from selenium.webdriver.chrome.service import Service\n",
    "from selenium.webdriver.common.by import By\n",
    "import random"
   ]
  },
  {
   "cell_type": "code",
   "execution_count": 74,
   "metadata": {},
   "outputs": [],
   "source": [
    "url1=['https://www.indiabix.com/database/introduction-to-database/','https://www.indiabix.com/database/introduction-to-database/101002','https://www.indiabix.com/database/introduction-to-database/101003','https://www.indiabix.com/database/introduction-to-database/101004']\n",
    "url2=['https://www.indiabix.com/database/introduction-to-sql/','https://www.indiabix.com/database/introduction-to-sql/103002','https://www.indiabix.com/database/introduction-to-sql/103003','https://www.indiabix.com/database/introduction-to-sql/103004']\n",
    "url3=['https://www.indiabix.com/database/database-design-using-normalization/','https://www.indiabix.com/database/database-design-using-normalization/107002','https://www.indiabix.com/database/database-design-using-normalization/107003','https://www.indiabix.com/database/database-design-using-normalization/107004']\n",
    "url4=['https://www.indiabix.com/logical-reasoning/number-series/','https://www.indiabix.com/logical-reasoning/number-series/001002','https://www.indiabix.com/logical-reasoning/number-series/001003','https://www.indiabix.com/logical-reasoning/number-series/001004']\n",
    "url5=['https://www.indiabix.com/logical-reasoning/verbal-classification/','https://www.indiabix.com/logical-reasoning/verbal-classification/007002','https://www.indiabix.com/logical-reasoning/verbal-classification/007003','https://www.indiabix.com/logical-reasoning/verbal-classification/007004']\n",
    "url6=['https://www.indiabix.com/logical-reasoning/analogies/','https://www.indiabix.com/logical-reasoning/analogies/012002','https://www.indiabix.com/logical-reasoning/analogies/012003','https://www.indiabix.com/logical-reasoning/analogies/012004']"
   ]
  },
  {
   "cell_type": "code",
   "execution_count": 75,
   "metadata": {},
   "outputs": [
    {
     "name": "stdout",
     "output_type": "stream",
     "text": [
      "['The DBMS acts as an interface between what two components of an enterprise-class database system?', 'Database application and the database', 'Data and the database', 'The user and the database application', 'Database application and SQL', 'A', 'easy']\n",
      "['Which of the following products was an early implementation of the relational model developed by E.F. Codd of IBM?', 'IDMS', 'DB2', 'dBase-II', 'R:base', 'B', 'hard']\n",
      "['The following are components of a database except ________ .', 'user data', 'metadata', 'reports', 'indexes', 'C', 'easy']\n",
      "['An application where only one user accesses the database at a given time is an example of a(n) ________ .', 'single-user database application', 'multiuser database application', 'e-commerce database application', 'data mining database application', 'A', 'easy']\n",
      "['An on-line commercial site such as Amazon.com is an example of a(n) ________ .', 'single-user database application', 'multiuser database application', 'e-commerce database application', 'data mining database application', 'C', 'medium']\n",
      "['Which of the following products was the first to implement true relational algebra in a PC DBMS?', 'IDMS', 'Oracle', 'dBase-II', 'R:base', 'D', 'medium']\n",
      "['SQL stands for ________ .', 'Structured Query Language', 'Sequential Query Language', 'Structured Question Language', 'Sequential Question Language', 'A', 'hard']\n",
      "['Because it contains a description of its own structure, a database is considered to be ________ .', 'described', 'metadata compatible', 'self-describing', 'an application program', 'C', 'medium']\n",
      "['The following are functions of a DBMS except ________ .', 'creating and processing forms', 'creating databases', 'processing data', 'administrating databases', 'A', 'easy']\n",
      "['Helping people keep track of things is the purpose of a(n) ________ .', 'database', 'table', 'instance', 'relationship', 'A', 'hard']\n",
      "['Which of the following products implemented the CODASYL DBTG model?', 'IDMS', 'DB2', 'dBase-II', 'R:base', 'A', 'medium']\n",
      "['An Enterprise Resource Planning application is an example of a(n) ________ .', 'single-user database application', 'multiuser database application', 'e-commerce database application', 'data mining database application', 'B', 'hard']\n",
      "['A DBMS that combines a DBMS and an application generator is ________ .', \"Microsoft's SQL Server\", \"Microsoft's Access\", \"IBM's DB2\", \"Oracle Corporation's Oracle\", 'B', 'easy']\n",
      "['You have run an SQL statement that asked the DBMS to display data in a table named USER_TABLES. The results include columns of data labeled \"TableName,\" \"NumberOfColumns\" and \"PrimaryKey.\" You are looking at ________ .', 'user data.', 'metadata', 'A report', 'indexes', 'B', 'hard']\n",
      "['Which of the following is not considered to be a basic element of an enterprise-class database system?', 'Users', 'Database applications', 'DBMS', 'COBOL programs', 'D', 'medium']\n",
      "['The DBMS that is most difficult to use is ________ .', \"Microsoft's SQL Server\", \"Microsoft's Access\", \"IBM's DB2\", \"Oracle Corporation's Oracle\", 'D', 'hard']\n"
     ]
    }
   ],
   "source": [
    "questionnaire=[]\n",
    "difficulty=['easy','medium','hard']\n",
    "for url in url1:\n",
    "    service = Service(executable_path=\"chromedriver.exe\")\n",
    "    driver = webdriver.Chrome(service=service)\n",
    "    driver.get(url)\n",
    "    quiz=driver.find_elements(By.CLASS_NAME,\"bix-div-container\")\n",
    "    for i in quiz:\n",
    "        obj=[]\n",
    "        quiz_question = i.find_element(By.CLASS_NAME,\"bix-td-qtxt\").text\n",
    "        obj.append(quiz_question)\n",
    "        quiz_options = i.find_elements(By.CLASS_NAME,\"bix-td-option-val\")\n",
    "        for j in quiz_options:\n",
    "            obj.append(j.text)\n",
    "        quiz_answer= i.find_element(By.CLASS_NAME,\"jq-hdnakq\").get_attribute('value')\n",
    "        obj.append(quiz_answer)\n",
    "        diff=random.randint(0,2)\n",
    "        obj.append(difficulty[diff])\n",
    "        print(obj)\n",
    "        questionnaire.append(obj)"
   ]
  },
  {
   "cell_type": "code",
   "execution_count": 76,
   "metadata": {},
   "outputs": [
    {
     "data": {
      "text/plain": [
       "[['The DBMS acts as an interface between what two components of an enterprise-class database system?',\n",
       "  'Database application and the database',\n",
       "  'Data and the database',\n",
       "  'The user and the database application',\n",
       "  'Database application and SQL',\n",
       "  'A',\n",
       "  'easy'],\n",
       " ['Which of the following products was an early implementation of the relational model developed by E.F. Codd of IBM?',\n",
       "  'IDMS',\n",
       "  'DB2',\n",
       "  'dBase-II',\n",
       "  'R:base',\n",
       "  'B',\n",
       "  'hard'],\n",
       " ['The following are components of a database except ________ .',\n",
       "  'user data',\n",
       "  'metadata',\n",
       "  'reports',\n",
       "  'indexes',\n",
       "  'C',\n",
       "  'easy'],\n",
       " ['An application where only one user accesses the database at a given time is an example of a(n) ________ .',\n",
       "  'single-user database application',\n",
       "  'multiuser database application',\n",
       "  'e-commerce database application',\n",
       "  'data mining database application',\n",
       "  'A',\n",
       "  'easy'],\n",
       " ['An on-line commercial site such as Amazon.com is an example of a(n) ________ .',\n",
       "  'single-user database application',\n",
       "  'multiuser database application',\n",
       "  'e-commerce database application',\n",
       "  'data mining database application',\n",
       "  'C',\n",
       "  'medium'],\n",
       " ['Which of the following products was the first to implement true relational algebra in a PC DBMS?',\n",
       "  'IDMS',\n",
       "  'Oracle',\n",
       "  'dBase-II',\n",
       "  'R:base',\n",
       "  'D',\n",
       "  'medium'],\n",
       " ['SQL stands for ________ .',\n",
       "  'Structured Query Language',\n",
       "  'Sequential Query Language',\n",
       "  'Structured Question Language',\n",
       "  'Sequential Question Language',\n",
       "  'A',\n",
       "  'hard'],\n",
       " ['Because it contains a description of its own structure, a database is considered to be ________ .',\n",
       "  'described',\n",
       "  'metadata compatible',\n",
       "  'self-describing',\n",
       "  'an application program',\n",
       "  'C',\n",
       "  'medium'],\n",
       " ['The following are functions of a DBMS except ________ .',\n",
       "  'creating and processing forms',\n",
       "  'creating databases',\n",
       "  'processing data',\n",
       "  'administrating databases',\n",
       "  'A',\n",
       "  'easy'],\n",
       " ['Helping people keep track of things is the purpose of a(n) ________ .',\n",
       "  'database',\n",
       "  'table',\n",
       "  'instance',\n",
       "  'relationship',\n",
       "  'A',\n",
       "  'hard'],\n",
       " ['Which of the following products implemented the CODASYL DBTG model?',\n",
       "  'IDMS',\n",
       "  'DB2',\n",
       "  'dBase-II',\n",
       "  'R:base',\n",
       "  'A',\n",
       "  'medium'],\n",
       " ['An Enterprise Resource Planning application is an example of a(n) ________ .',\n",
       "  'single-user database application',\n",
       "  'multiuser database application',\n",
       "  'e-commerce database application',\n",
       "  'data mining database application',\n",
       "  'B',\n",
       "  'hard'],\n",
       " ['A DBMS that combines a DBMS and an application generator is ________ .',\n",
       "  \"Microsoft's SQL Server\",\n",
       "  \"Microsoft's Access\",\n",
       "  \"IBM's DB2\",\n",
       "  \"Oracle Corporation's Oracle\",\n",
       "  'B',\n",
       "  'easy'],\n",
       " ['You have run an SQL statement that asked the DBMS to display data in a table named USER_TABLES. The results include columns of data labeled \"TableName,\" \"NumberOfColumns\" and \"PrimaryKey.\" You are looking at ________ .',\n",
       "  'user data.',\n",
       "  'metadata',\n",
       "  'A report',\n",
       "  'indexes',\n",
       "  'B',\n",
       "  'hard'],\n",
       " ['Which of the following is not considered to be a basic element of an enterprise-class database system?',\n",
       "  'Users',\n",
       "  'Database applications',\n",
       "  'DBMS',\n",
       "  'COBOL programs',\n",
       "  'D',\n",
       "  'medium'],\n",
       " ['The DBMS that is most difficult to use is ________ .',\n",
       "  \"Microsoft's SQL Server\",\n",
       "  \"Microsoft's Access\",\n",
       "  \"IBM's DB2\",\n",
       "  \"Oracle Corporation's Oracle\",\n",
       "  'D',\n",
       "  'hard']]"
      ]
     },
     "execution_count": 76,
     "metadata": {},
     "output_type": "execute_result"
    }
   ],
   "source": [
    "questionnaire"
   ]
  }
 ],
 "metadata": {
  "kernelspec": {
   "display_name": ".venv",
   "language": "python",
   "name": "python3"
  },
  "language_info": {
   "codemirror_mode": {
    "name": "ipython",
    "version": 3
   },
   "file_extension": ".py",
   "mimetype": "text/x-python",
   "name": "python",
   "nbconvert_exporter": "python",
   "pygments_lexer": "ipython3",
   "version": "3.11.4"
  }
 },
 "nbformat": 4,
 "nbformat_minor": 2
}
